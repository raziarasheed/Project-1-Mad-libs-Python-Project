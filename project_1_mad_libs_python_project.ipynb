{
  "nbformat": 4,
  "nbformat_minor": 0,
  "metadata": {
    "colab": {
      "provenance": [],
      "authorship_tag": "ABX9TyPFYrGOWUb+uQo2cOsdEe2A",
      "include_colab_link": true
    },
    "kernelspec": {
      "name": "python3",
      "display_name": "Python 3"
    },
    "language_info": {
      "name": "python"
    }
  },
  "cells": [
    {
      "cell_type": "markdown",
      "metadata": {
        "id": "view-in-github",
        "colab_type": "text"
      },
      "source": [
        "<a href=\"https://colab.research.google.com/github/raziarasheed/Project-1-Mad-libs-Python-Project/blob/main/project_1_mad_libs_python_project.ipynb\" target=\"_parent\"><img src=\"https://colab.research.google.com/assets/colab-badge.svg\" alt=\"Open In Colab\"/></a>"
      ]
    },
    {
      "cell_type": "code",
      "execution_count": null,
      "metadata": {
        "id": "VcXFQkVW5JXo"
      },
      "outputs": [],
      "source": [
        "def mad_libs():\n",
        "    print(\"Let\\'s play Mad Libs!Fill in the blanks with your own words\")\n",
        "    name= input(\"Give me a name:\")\n",
        "    place= input(\"Give me a place:\")\n",
        "    funny_adj = input(\"Give me a funnty adjective:\")\n",
        "    random_object= input(\"Give me a random object:\")\n",
        "    animal = input(\"Give me an animal:\")\n",
        "    action_verb = input(\"Give me a action verb:\")\n",
        "    funny_exclamation = input(\"Give me a funny exclamation:\")\n",
        "    story = f'''\n",
        "Once upon a time there was a man name {name}who live in {place}\n",
        "one day  he found {funny_adj} {random_object}  they belong to a {animal}\n",
        "The {animal} was very absert and started to {action_verb} around {name}\n",
        "couldnot help but laugh and shouted \"{funny_exclamation}\"!'''\n",
        "    print (\"\\n here is your midlib story\")\n",
        "if __name__ == \"__main__\":\n",
        "    mad_libs()"
      ]
    }
  ]
}